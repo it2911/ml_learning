{
 "cells": [
  {
   "cell_type": "markdown",
   "id": "a4636288172e8105",
   "metadata": {
    "collapsed": false,
    "jupyter": {
     "outputs_hidden": false
    }
   },
   "source": [
    "Prepare the environment for testing. "
   ]
  },
  {
   "cell_type": "code",
   "execution_count": 1,
   "id": "a9ebf5c9b6a4fe69",
   "metadata": {
    "ExecuteTime": {
     "end_time": "2024-04-06T10:49:33.279713Z",
     "start_time": "2024-04-06T10:49:30.779578Z"
    },
    "collapsed": false,
    "jupyter": {
     "outputs_hidden": false
    }
   },
   "outputs": [],
   "source": [
    "import numpy as np\n",
    "from abc import ABC, abstractmethod\n",
    "import pandas as pd\n",
    "from pandas.testing import assert_frame_equal\n",
    "from sklearn.linear_model import Ridge\n",
    "\n",
    "## Abstract classes (interfaces) for predictors and transformers\n",
    "\n",
    "class PredictorModel(ABC):\n",
    "    \"\"\"Predictor model.\"\"\"\n",
    "\n",
    "    @abstractmethod\n",
    "    def predict(feature_df):\n",
    "        \"\"\"\n",
    "        Predict target values.\n",
    "\n",
    "        Parameters\n",
    "        ----------\n",
    "        feature_df : pd.DataFrame\n",
    "\n",
    "        Returns\n",
    "        -------\n",
    "        predict_df : pd.DataFrame\n",
    "        \"\"\"\n",
    "        pass\n",
    "\n",
    "\n",
    "class PredictorLearner(ABC):\n",
    "    \"\"\"Predictor learner.\"\"\"\n",
    "\n",
    "    @abstractmethod\n",
    "    def learn(feature_df, target_df):\n",
    "        \"\"\"\n",
    "        Generates predictor model by using training data.\n",
    "\n",
    "        Parameters\n",
    "        ----------\n",
    "        feature_df : pd.DataFrame\n",
    "        target_df : pd.DataFrame\n",
    "\n",
    "        Returns\n",
    "        -------\n",
    "        predictor_model : PredictorModel\n",
    "        \"\"\"\n",
    "        pass\n",
    "\n",
    "\n",
    "class TransformerModel(ABC):\n",
    "    \"\"\"Transformer model.\"\"\"\n",
    "\n",
    "    @abstractmethod\n",
    "    def transform(feature_df):\n",
    "        \"\"\"\n",
    "        Transforms the feature values.\n",
    "\n",
    "        Parameters\n",
    "        ----------\n",
    "        feature_df : pd.DataFrame\n",
    "\n",
    "        Returns\n",
    "        -------\n",
    "        trans_df : pd.DataFrame\n",
    "        \"\"\"\n",
    "        pass\n",
    "\n",
    "\n",
    "class TransformerLearner(ABC):\n",
    "    \"\"\"Transformer learner.\"\"\"\n",
    "\n",
    "    @abstractmethod\n",
    "    def learn(feature_df):\n",
    "        \"\"\"\n",
    "        Generates transformer model by using training data.\n",
    "\n",
    "        Parameters\n",
    "        ----------\n",
    "        feature_df : pd.DataFrame\n",
    "\n",
    "        Returns\n",
    "        -------\n",
    "        transformer_model : TransformerModel\n",
    "        \"\"\"\n",
    "        pass\n",
    "\n",
    "## Pipeline model class\n",
    "class PipelineModel(object):\n",
    "    \"\"\"Pipeline model.\n",
    "\n",
    "    Attributes\n",
    "    ----------\n",
    "    transformer_models : list[TransformerModel]\n",
    "    predictor_model : PredictorModel\n",
    "\n",
    "    \"\"\"\n",
    "\n",
    "    def __init__(self, transformer_models, predictor_model):\n",
    "        self.transformer_models = transformer_models\n",
    "        self.predictor_model = predictor_model\n",
    "\n",
    "    def predict(self, feature_df):\n",
    "        \"\"\"\n",
    "        Predict target values by transforming feature values and prediction.\n",
    "\n",
    "        Parameters\n",
    "        ----------\n",
    "        feature_df : pd.DataFrame\n",
    "\n",
    "        Returns\n",
    "        -------\n",
    "        predict_df : pd.DataFrame\n",
    "        \"\"\"\n",
    "        trans_df = feature_df\n",
    "        for model in self.transformer_models:\n",
    "            trans_df = model.transform(trans_df)\n",
    "\n",
    "        return self.predictor_model.predict(trans_df)"
   ]
  },
  {
   "cell_type": "markdown",
   "id": "a57392c98a89384e",
   "metadata": {
    "collapsed": false,
    "jupyter": {
     "outputs_hidden": false
    }
   },
   "source": [
    "## <font color='red'>Exercise 1.</font>\n",
    "\n",
    "Please implement the `StandardScaler.transform(...)` and `StandardScalerLearner.learn(...)` which transforms feature matrix so that the average and standard deviation of each column will be 0.0 and 1.0, respectively."
   ]
  },
  {
   "cell_type": "code",
   "execution_count": 2,
   "id": "73f7f8e38c38bfea",
   "metadata": {
    "ExecuteTime": {
     "end_time": "2024-04-06T10:49:33.293735Z",
     "start_time": "2024-04-06T10:49:33.280719Z"
    },
    "collapsed": false,
    "jupyter": {
     "outputs_hidden": false
    }
   },
   "outputs": [
    {
     "name": "stdout",
     "output_type": "stream",
     "text": [
      "Exercise 1 Passed\n"
     ]
    }
   ],
   "source": [
    "class ReplaceNanWithZeroTransformer(TransformerModel):\n",
    "    \"\"\"Transformer to replace NaN in the feature values to zeros.\"\"\"\n",
    "\n",
    "    def transform(self, feature_df):\n",
    "        trans_df = feature_df.copy()\n",
    "        trans_df[feature_df.isna()] = 0.0\n",
    "        return trans_df\n",
    "\n",
    "class StandardScaler(TransformerModel):\n",
    "    \"\"\"Standard scaler.\n",
    "\n",
    "    Attributes\n",
    "    ----------\n",
    "    mean : pd.Series\n",
    "        Mean value for each column.\n",
    "    stdev : pd.Series\n",
    "        Standard deviation value for each column.\n",
    "    \"\"\"\n",
    "    def __init__(self, mean, stdev):\n",
    "        self.mean = mean\n",
    "        self.stdev = stdev\n",
    "\n",
    "    def transform(self, feature_df):\n",
    "        return (feature_df - self.mean) / self.stdev\n",
    "\n",
    "class StandardScalerLearner(TransformerLearner):\n",
    "    \"\"\"Standard scaler learner.\"\"\"\n",
    "    def learn(self, feature_df):\n",
    "        # Calculating the mean and standard deviation for each column\n",
    "        mean = feature_df.mean()\n",
    "        stdev = feature_df.std()\n",
    "        return StandardScaler(mean, stdev)\n",
    "\n",
    "def test_standard_scaler():\n",
    "    feature_tr_df = pd.DataFrame({\"col1\": [1.0, 2.0, 3.0], \"col2\": [-2.0, 2.0, 0.0]})\n",
    "    feature_te_df = pd.DataFrame({\"col1\": [1.0, 0.5, 3.2], \"col2\": [4.0, 1.2, 0.3]})\n",
    "\n",
    "    output_df = StandardScalerLearner().learn(feature_tr_df).transform(feature_te_df)\n",
    "\n",
    "    expected_df = pd.DataFrame({\"col1\": [-1.0, -1.5, 1.2], \"col2\": [2.0, 0.6, 0.15]})\n",
    "    try:\n",
    "        assert_frame_equal(output_df, expected_df)\n",
    "        print(\"Exercise 1 Passed\")\n",
    "    except AssertionError as e:\n",
    "        print(\"Failed:\", e)\n",
    "\n",
    "test_standard_scaler()"
   ]
  },
  {
   "cell_type": "markdown",
   "id": "dfca230077fefe9b",
   "metadata": {
    "collapsed": false,
    "jupyter": {
     "outputs_hidden": false
    }
   },
   "source": [
    "## <font color='red'>Exercise 2.</font>\n",
    "\n",
    "Please implement the `PipelineLearner.learn(...)`. The test written below has two elements for `transformers` but it could be different number, in general."
   ]
  },
  {
   "cell_type": "code",
   "execution_count": 3,
   "id": "8d1629991cb5cc3f",
   "metadata": {
    "ExecuteTime": {
     "end_time": "2024-04-06T10:49:33.325177Z",
     "start_time": "2024-04-06T10:49:33.295130Z"
    },
    "collapsed": false,
    "jupyter": {
     "outputs_hidden": false
    }
   },
   "outputs": [
    {
     "name": "stdout",
     "output_type": "stream",
     "text": [
      "Exercise 2 Passed\n"
     ]
    }
   ],
   "source": [
    "class RidgeRegressionModel(PredictorModel):\n",
    "    def __init__(self, ridge, columns):\n",
    "        self.ridge = ridge\n",
    "        self.columns = columns\n",
    "\n",
    "    def predict(self, feature_df):\n",
    "        return pd.DataFrame(self.ridge.predict(feature_df.values), columns=self.columns)\n",
    "\n",
    "\n",
    "class RidgeRegressionLearner(PredictorLearner):\n",
    "    def __init__(self, alpha=0.0):\n",
    "        self.alpha = alpha\n",
    "\n",
    "    def learn(self, feature_df, target_df):\n",
    "        ridge = Ridge(self.alpha)\n",
    "        ridge.fit(feature_df.values, target_df.values)\n",
    "        return RidgeRegressionModel(ridge, target_df.columns)\n",
    "\n",
    "class PipelineLearner(object):\n",
    "    \"\"\"Pipeline learner.\n",
    "\n",
    "    Attributes\n",
    "    ----------\n",
    "    transformers : list[TransformerModel or TransformerLearner]\n",
    "    predictor_learner : PredictorLearner\n",
    "    \"\"\"\n",
    "\n",
    "    def __init__(self, transformers, predictor_learner):\n",
    "        self.transformers = transformers\n",
    "        self.predictor_learner = predictor_learner\n",
    "\n",
    "    def learn(self, feature_df, target_df):\n",
    "        # Initialize an empty list to store the transformer models\n",
    "        transformer_models = []\n",
    "\n",
    "        # Apply each transformer learner to the features in sequence\n",
    "        for transformer in self.transformers:\n",
    "            # Check if the transformer is a model or a learner\n",
    "            if isinstance(transformer, TransformerModel):\n",
    "                # If it's a model, just transform the features\n",
    "                feature_df = transformer.transform(feature_df)\n",
    "                transformer_models.append(transformer)\n",
    "            else:\n",
    "                # If it's a learner, first learn the model then transform the features\n",
    "                model = transformer.learn(feature_df)\n",
    "                feature_df = model.transform(feature_df)\n",
    "                transformer_models.append(model)\n",
    "\n",
    "        # Train the predictor learner with the final set of transformed features and the target\n",
    "        predictor_model = self.predictor_learner.learn(feature_df, target_df)\n",
    "\n",
    "        # Return a pipeline model containing all the transformer models and the predictor model\n",
    "        return PipelineModel(transformer_models, predictor_model)\n",
    "\n",
    "def test_learner_pipeline():\n",
    "    # define ML pipeline\n",
    "    pipeline_learner = PipelineLearner(\n",
    "        transformers=[\n",
    "            ReplaceNanWithZeroTransformer(),\n",
    "            StandardScalerLearner()\n",
    "        ],\n",
    "        predictor_learner=RidgeRegressionLearner(alpha=0.5)\n",
    "    )\n",
    "\n",
    "    # make ML pipeline model\n",
    "    feature_tr_df = pd.DataFrame({\"col1\": [1.0, 2.0, 3.0], \"col2\": [-2.0, 2.0, 0.0]})\n",
    "    feature_te_df = pd.DataFrame({\"col1\": [1.0, 0.5, 3.2], \"col2\": [4.0, 1.2, 0.3]})\n",
    "    target_tr_df = pd.DataFrame({\"target\": [1.0, 2.0, -1.0]})\n",
    "\n",
    "    pipeline_model = pipeline_learner.learn(feature_tr_df, target_tr_df)\n",
    "\n",
    "    # predict target value by the ML pipeline model\n",
    "    predict_df = pipeline_model.predict(feature_te_df)\n",
    "\n",
    "    expected_df = pd.DataFrame({\"target\": [3.523810, 2.895238, -0.576190]})\n",
    "    try:\n",
    "        assert_frame_equal(expected_df, predict_df)\n",
    "        print(\"Exercise 2 Passed\")\n",
    "    except AssertionError as e:\n",
    "        print(\"Failed:\", e)\n",
    "\n",
    "test_learner_pipeline()"
   ]
  },
  {
   "cell_type": "markdown",
   "id": "4fffb4466b5f8d8a",
   "metadata": {
    "collapsed": false,
    "jupyter": {
     "outputs_hidden": false
    }
   },
   "source": [
    "## <font color='red'>Exercise 3.</font>\n",
    "\n",
    "In the above cell, even if `StandardScalerLearner` uses not the output of the previous step but the original features unexpectedly, the test passes. Please add a new test case `test_learner_pipeline2()` for testing whether the step (transformer) correctly uses the output of the previous step as the input."
   ]
  },
  {
   "cell_type": "code",
   "execution_count": 4,
   "id": "9ce79417579177b4",
   "metadata": {
    "ExecuteTime": {
     "end_time": "2024-04-06T10:49:33.337076Z",
     "start_time": "2024-04-06T10:49:33.327189Z"
    },
    "collapsed": false,
    "jupyter": {
     "outputs_hidden": false
    }
   },
   "outputs": [
    {
     "name": "stdout",
     "output_type": "stream",
     "text": [
      "Exercise 3 Passed\n"
     ]
    }
   ],
   "source": [
    "def test_learner_pipeline2():\n",
    "    # define ML pipeline with a logging transformer to track transformations\n",
    "    pipeline_learner = PipelineLearner(\n",
    "        transformers=[\n",
    "            ReplaceNanWithZeroTransformer(),\n",
    "            StandardScalerLearner()\n",
    "        ],\n",
    "        predictor_learner=RidgeRegressionLearner(alpha=0.5)\n",
    "    )\n",
    "\n",
    "    # Use the data of Exercise2 for the test, but change the 0.0 to np.nan.\n",
    "    # It can test if ReplaceNanWithZeroTransformer worked or not.\n",
    "    feature_tr_df = pd.DataFrame({\"col1\": [1.0, 2.0, 3.0], \"col2\": [-2.0, 2.0, np.nan]})\n",
    "    feature_te_df = pd.DataFrame({\"col1\": [1.0, 0.5, 3.2], \"col2\": [4.0, 1.2, 0.3]})\n",
    "    target_tr_df = pd.DataFrame({\"target\": [1.0, 2.0, -1.0]})\n",
    "\n",
    "    # Train the pipeline\n",
    "    pipeline_model = pipeline_learner.learn(feature_tr_df, target_tr_df)\n",
    "\n",
    "    # Predict using the trained pipeline model\n",
    "    predict_df = pipeline_model.predict(feature_te_df)\n",
    "\n",
    "    # Check if the marker column is correctly added and incremented\n",
    "    expected_df = pd.DataFrame({\"target\": [3.523810, 2.895238, -0.576190]})\n",
    "    try:\n",
    "        assert_frame_equal(expected_df, predict_df)\n",
    "        print(\"Exercise 3 Passed\")\n",
    "    except AssertionError as e:\n",
    "        print(\"Failed:\", e)\n",
    "\n",
    "test_learner_pipeline2()"
   ]
  },
  {
   "cell_type": "code",
   "execution_count": null,
   "id": "b5de69e6-d509-4282-b0ad-56cfd5617e82",
   "metadata": {},
   "outputs": [],
   "source": []
  }
 ],
 "metadata": {
  "kernelspec": {
   "display_name": "Python 3 (ipykernel)",
   "language": "python",
   "name": "python3"
  },
  "language_info": {
   "codemirror_mode": {
    "name": "ipython",
    "version": 3
   },
   "file_extension": ".py",
   "mimetype": "text/x-python",
   "name": "python",
   "nbconvert_exporter": "python",
   "pygments_lexer": "ipython3",
   "version": "3.12.2"
  }
 },
 "nbformat": 4,
 "nbformat_minor": 5
}
